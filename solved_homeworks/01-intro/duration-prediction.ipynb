{
 "cells": [
  {
   "cell_type": "code",
   "id": "b2bd82d7",
   "metadata": {
    "ExecuteTime": {
     "end_time": "2024-05-18T22:25:02.997929Z",
     "start_time": "2024-05-18T22:25:02.696813Z"
    }
   },
   "source": [
    "!which python\n",
    "!python -V"
   ],
   "outputs": [
    {
     "name": "stdout",
     "output_type": "stream",
     "text": [
      "/Users/ivustianiu/Library/Caches/pypoetry/virtualenvs/mlops-zoomcamp-0GqB-Z-k-py3.10/bin/python\r\n",
      "Python 3.10.13\r\n"
     ]
    }
   ],
   "execution_count": 1
  },
  {
   "cell_type": "code",
   "id": "41062d8a",
   "metadata": {
    "ExecuteTime": {
     "end_time": "2024-05-18T22:25:03.267439Z",
     "start_time": "2024-05-18T22:25:03.000212Z"
    }
   },
   "source": [
    "import pandas as pd\n",
    "import pickle\n",
    "\n",
    "from sklearn.feature_extraction import DictVectorizer\n",
    "from sklearn.linear_model import LinearRegression\n",
    "\n",
    "from sklearn.metrics import root_mean_squared_error"
   ],
   "outputs": [],
   "execution_count": 2
  },
  {
   "cell_type": "code",
   "id": "8e013caf",
   "metadata": {
    "ExecuteTime": {
     "end_time": "2024-05-18T22:25:03.548532Z",
     "start_time": "2024-05-18T22:25:03.268044Z"
    }
   },
   "source": [
    "df = pd.read_parquet('../../data/yellow_tripdata_2023-01.parquet')\n",
    "print(df.shape)"
   ],
   "outputs": [
    {
     "name": "stdout",
     "output_type": "stream",
     "text": [
      "(3066766, 19)\n"
     ]
    }
   ],
   "execution_count": 3
  },
  {
   "metadata": {
    "ExecuteTime": {
     "end_time": "2024-05-18T22:25:07.219902Z",
     "start_time": "2024-05-18T22:25:03.550669Z"
    }
   },
   "cell_type": "code",
   "source": [
    "df['duration'] = df.tpep_dropoff_datetime - df.tpep_pickup_datetime\n",
    "df['duration'] = df.duration.apply(lambda td: td.total_seconds() / 60)\n",
    "print('standard deviation:', df['duration'].std())"
   ],
   "id": "29dfc9cd6ba458d9",
   "outputs": [
    {
     "name": "stdout",
     "output_type": "stream",
     "text": [
      "standard deviation: 42.59435124195458\n"
     ]
    }
   ],
   "execution_count": 4
  },
  {
   "metadata": {
    "ExecuteTime": {
     "end_time": "2024-05-18T22:25:07.420238Z",
     "start_time": "2024-05-18T22:25:07.220755Z"
    }
   },
   "cell_type": "code",
   "source": [
    "n_rows_before = len(df)\n",
    "df = df[(df.duration >= 1) & (df.duration <= 60)]\n",
    "n_rows_after = len(df)\n",
    "print('% of rows left:', n_rows_after / n_rows_before * 100)"
   ],
   "id": "9839d209e287757f",
   "outputs": [
    {
     "name": "stdout",
     "output_type": "stream",
     "text": [
      "% of rows left: 98.1220282212598\n"
     ]
    }
   ],
   "execution_count": 5
  },
  {
   "cell_type": "code",
   "id": "116ff0cc",
   "metadata": {
    "ExecuteTime": {
     "end_time": "2024-05-18T22:25:14.380413Z",
     "start_time": "2024-05-18T22:25:07.421074Z"
    }
   },
   "source": [
    "categorical = ['PULocationID', 'DOLocationID']\n",
    "\n",
    "df[categorical] = df[categorical].astype(str)\n",
    "train_dicts = df[categorical].to_dict(orient='records')\n",
    "\n",
    "dv = DictVectorizer()\n",
    "X_train = dv.fit_transform(train_dicts)\n",
    "print(X_train.shape)"
   ],
   "outputs": [
    {
     "name": "stdout",
     "output_type": "stream",
     "text": [
      "(3009173, 515)\n"
     ]
    }
   ],
   "execution_count": 6
  },
  {
   "metadata": {
    "ExecuteTime": {
     "end_time": "2024-05-18T22:25:27.236720Z",
     "start_time": "2024-05-18T22:25:14.381551Z"
    }
   },
   "cell_type": "code",
   "source": [
    "target = 'duration'\n",
    "y_train = df[target].values\n",
    "\n",
    "lr = LinearRegression()\n",
    "lr.fit(X_train, y_train)\n",
    "\n",
    "y_pred = lr.predict(X_train)\n",
    "print(root_mean_squared_error(y_train, y_pred))"
   ],
   "id": "2253c9e90cde9731",
   "outputs": [
    {
     "name": "stdout",
     "output_type": "stream",
     "text": [
      "7.649261927686161\n"
     ]
    }
   ],
   "execution_count": 7
  },
  {
   "cell_type": "code",
   "id": "f9e6479e",
   "metadata": {
    "ExecuteTime": {
     "end_time": "2024-05-18T22:25:27.240567Z",
     "start_time": "2024-05-18T22:25:27.237829Z"
    }
   },
   "source": [
    "def read_dataframe(filename, remove_outliers: bool = True):\n",
    "    df = pd.read_parquet(filename)\n",
    "    df['duration'] = df.tpep_dropoff_datetime - df.tpep_pickup_datetime\n",
    "    df['duration'] = df.duration.apply(lambda td: td.total_seconds() / 60)\n",
    "    if remove_outliers:\n",
    "        df = df[(df.duration >= 1) & (df.duration <= 60)]\n",
    "    categorical = ['PULocationID', 'DOLocationID']\n",
    "    df[categorical] = df[categorical].astype(str)\n",
    "    return df"
   ],
   "outputs": [],
   "execution_count": 8
  },
  {
   "cell_type": "code",
   "id": "8029eba0",
   "metadata": {
    "ExecuteTime": {
     "end_time": "2024-05-18T22:25:36.181410Z",
     "start_time": "2024-05-18T22:25:27.241632Z"
    }
   },
   "source": [
    "df_train = read_dataframe('../../data/yellow_tripdata_2023-01.parquet')\n",
    "df_val = read_dataframe('../../data/yellow_tripdata_2023-02.parquet')"
   ],
   "outputs": [],
   "execution_count": 9
  },
  {
   "cell_type": "code",
   "id": "f6f2f0eb",
   "metadata": {
    "ExecuteTime": {
     "end_time": "2024-05-18T22:25:36.187444Z",
     "start_time": "2024-05-18T22:25:36.183763Z"
    }
   },
   "source": [
    "len(df_train), len(df_val)"
   ],
   "outputs": [
    {
     "data": {
      "text/plain": [
       "(3009173, 2855951)"
      ]
     },
     "execution_count": 10,
     "metadata": {},
     "output_type": "execute_result"
    }
   ],
   "execution_count": 10
  },
  {
   "cell_type": "code",
   "id": "c5cbfc25",
   "metadata": {
    "ExecuteTime": {
     "end_time": "2024-05-18T22:25:48.574376Z",
     "start_time": "2024-05-18T22:25:36.188309Z"
    }
   },
   "source": [
    "categorical = ['PULocationID', 'DOLocationID']\n",
    "dv = DictVectorizer()\n",
    "train_dicts = df_train[categorical].to_dict(orient='records')\n",
    "X_train = dv.fit_transform(train_dicts)\n",
    "val_dicts = df_val[categorical].to_dict(orient='records')\n",
    "X_val = dv.transform(val_dicts)"
   ],
   "outputs": [],
   "execution_count": 11
  },
  {
   "cell_type": "code",
   "id": "1e9fb68b",
   "metadata": {
    "ExecuteTime": {
     "end_time": "2024-05-18T22:25:48.578521Z",
     "start_time": "2024-05-18T22:25:48.575798Z"
    }
   },
   "source": [
    "target = 'duration'\n",
    "y_train = df_train[target].values\n",
    "y_val = df_val[target].values"
   ],
   "outputs": [],
   "execution_count": 12
  },
  {
   "cell_type": "code",
   "id": "429e2394",
   "metadata": {
    "ExecuteTime": {
     "end_time": "2024-05-18T22:26:01.424655Z",
     "start_time": "2024-05-18T22:25:48.579457Z"
    }
   },
   "source": [
    "lr = LinearRegression()\n",
    "lr.fit(X_train, y_train)\n",
    "\n",
    "y_pred = lr.predict(X_val)\n",
    "\n",
    "root_mean_squared_error(y_val, y_pred)"
   ],
   "outputs": [
    {
     "data": {
      "text/plain": [
       "7.811817957524739"
      ]
     },
     "execution_count": 13,
     "metadata": {},
     "output_type": "execute_result"
    }
   ],
   "execution_count": 13
  },
  {
   "cell_type": "code",
   "id": "22bf6f8b",
   "metadata": {
    "ExecuteTime": {
     "end_time": "2024-05-18T22:26:01.429670Z",
     "start_time": "2024-05-18T22:26:01.425513Z"
    }
   },
   "source": [
    "with open('../../models/lin_reg.bin', 'wb') as f_out:\n",
    "    pickle.dump((dv, lr), f_out)"
   ],
   "outputs": [],
   "execution_count": 14
  },
  {
   "metadata": {},
   "cell_type": "markdown",
   "source": [
    "Q1: 19 <br>\n",
    "Q2: 42.59 <br>\n",
    "Q3: 98% <br>\n",
    "Q4: 515 <br>\n",
    "Q5: 7.64 <br>\n",
    "Q6: 7.81 <br>"
   ],
   "id": "900a0961a4421e01"
  }
 ],
 "metadata": {
  "kernelspec": {
   "display_name": "Python 3 (ipykernel)",
   "language": "python",
   "name": "python3"
  },
  "language_info": {
   "codemirror_mode": {
    "name": "ipython",
    "version": 3
   },
   "file_extension": ".py",
   "mimetype": "text/x-python",
   "name": "python",
   "nbconvert_exporter": "python",
   "pygments_lexer": "ipython3",
   "version": "3.9.7"
  }
 },
 "nbformat": 4,
 "nbformat_minor": 5
}
