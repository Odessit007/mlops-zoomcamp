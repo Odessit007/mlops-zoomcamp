{
 "cells": [
  {
   "cell_type": "code",
   "id": "initial_id",
   "metadata": {
    "collapsed": true,
    "ExecuteTime": {
     "end_time": "2024-05-26T22:10:08.669372Z",
     "start_time": "2024-05-26T22:10:07.698503Z"
    }
   },
   "source": [
    "import pandas as pd\n",
    "import polars as pl"
   ],
   "outputs": [],
   "execution_count": 3
  },
  {
   "metadata": {
    "ExecuteTime": {
     "end_time": "2024-05-26T22:10:10.245501Z",
     "start_time": "2024-05-26T22:10:10.109957Z"
    }
   },
   "cell_type": "code",
   "source": "!pwd",
   "id": "2d3ef321de9ba2ed",
   "outputs": [
    {
     "name": "stdout",
     "output_type": "stream",
     "text": [
      "/Users/ivustianiu/PycharmProjects/mlops-zoomcamp/project\r\n"
     ]
    }
   ],
   "execution_count": 4
  },
  {
   "metadata": {
    "ExecuteTime": {
     "end_time": "2024-05-26T22:36:04.143292Z",
     "start_time": "2024-05-26T22:36:04.096636Z"
    }
   },
   "cell_type": "code",
   "source": [
    "df = pd.read_csv('output/clinvar_annotated.tsv.gz', delimiter='\\t', na_values='-')\n",
    "df.shape"
   ],
   "id": "efe9a79d7461024c",
   "outputs": [
    {
     "data": {
      "text/plain": [
       "(9058, 23)"
      ]
     },
     "execution_count": 43,
     "metadata": {},
     "output_type": "execute_result"
    }
   ],
   "execution_count": 43
  },
  {
   "metadata": {
    "ExecuteTime": {
     "end_time": "2024-05-26T22:36:04.928686Z",
     "start_time": "2024-05-26T22:36:04.917166Z"
    }
   },
   "cell_type": "code",
   "source": [
    "dg = pl.read_csv('output/clinvar_annotated.tsv.gz', separator='\\t', null_values='-')\n",
    "dg.shape"
   ],
   "id": "9a54d8b9c7b59f0e",
   "outputs": [
    {
     "data": {
      "text/plain": [
       "(9058, 23)"
      ]
     },
     "execution_count": 44,
     "metadata": {},
     "output_type": "execute_result"
    }
   ],
   "execution_count": 44
  },
  {
   "metadata": {
    "ExecuteTime": {
     "end_time": "2024-05-26T22:36:07.981867Z",
     "start_time": "2024-05-26T22:36:07.969672Z"
    }
   },
   "cell_type": "code",
   "source": [
    "# Metadata columns (must be excluded): variant_id, gene_name, ncbi_id, transcript_id, transcript_version\n",
    "# Target column: label\n",
    "# Atomic categorical columns: ref, alt, consequence, impact\n",
    "# Compound categorical column (must be split into ref_aa and alt_aa): amino_acid_change\n",
    "\n",
    "df.info()"
   ],
   "id": "c2dbdc94ae36af4c",
   "outputs": [
    {
     "name": "stdout",
     "output_type": "stream",
     "text": [
      "<class 'pandas.core.frame.DataFrame'>\n",
      "RangeIndex: 9058 entries, 0 to 9057\n",
      "Data columns (total 23 columns):\n",
      " #   Column              Non-Null Count  Dtype  \n",
      "---  ------              --------------  -----  \n",
      " 0   variant_id          9058 non-null   object \n",
      " 1   ref                 9058 non-null   object \n",
      " 2   alt                 9058 non-null   object \n",
      " 3   clnsig              9058 non-null   object \n",
      " 4   gnomad_ac           4034 non-null   float64\n",
      " 5   gnomad_af           4034 non-null   float64\n",
      " 6   gnomad_an           4034 non-null   float64\n",
      " 7   gnomad_hom          4034 non-null   float64\n",
      " 8   revel               8987 non-null   float64\n",
      " 9   ds_ag               8943 non-null   float64\n",
      " 10  ds_al               8943 non-null   float64\n",
      " 11  ds_dg               8943 non-null   float64\n",
      " 12  ds_dl               8943 non-null   float64\n",
      " 13  amino_acid_change   8308 non-null   object \n",
      " 14  biotype             9058 non-null   object \n",
      " 15  canonical           9058 non-null   bool   \n",
      " 16  consequence         9058 non-null   object \n",
      " 17  impact              9058 non-null   object \n",
      " 18  gene_name           9058 non-null   object \n",
      " 19  ncbi_id             9058 non-null   int64  \n",
      " 20  strand              9058 non-null   int64  \n",
      " 21  transcript_id       9058 non-null   object \n",
      " 22  transcript_version  9058 non-null   int64  \n",
      "dtypes: bool(1), float64(9), int64(3), object(10)\n",
      "memory usage: 1.5+ MB\n"
     ]
    }
   ],
   "execution_count": 45
  },
  {
   "metadata": {
    "ExecuteTime": {
     "end_time": "2024-05-26T23:35:24.025732Z",
     "start_time": "2024-05-26T23:35:24.015991Z"
    }
   },
   "cell_type": "code",
   "source": "df['clnsig'].value_counts(normalize=True)",
   "id": "4c4059c4a49c8dc5",
   "outputs": [
    {
     "data": {
      "text/plain": [
       "clnsig\n",
       "LB    0.473283\n",
       "LP    0.248620\n",
       "B     0.221130\n",
       "P     0.056966\n",
       "Name: proportion, dtype: float64"
      ]
     },
     "execution_count": 48,
     "metadata": {},
     "output_type": "execute_result"
    }
   ],
   "execution_count": 48
  },
  {
   "metadata": {
    "ExecuteTime": {
     "end_time": "2024-05-26T23:40:18.255773Z",
     "start_time": "2024-05-26T23:40:18.246702Z"
    }
   },
   "cell_type": "code",
   "source": [
    "aa_cnt = df['amino_acid_change'].value_counts(dropna=False)\n",
    "aa_cnt"
   ],
   "id": "87804de2dc6787b6",
   "outputs": [
    {
     "data": {
      "text/plain": [
       "amino_acid_change\n",
       "NaN    750\n",
       "R/Q    294\n",
       "R/H    271\n",
       "A/T    268\n",
       "A/V    253\n",
       "      ... \n",
       "S/*      1\n",
       "R/*      1\n",
       "E/*      1\n",
       "W/*      1\n",
       "H        1\n",
       "Name: count, Length: 174, dtype: int64"
      ]
     },
     "execution_count": 60,
     "metadata": {},
     "output_type": "execute_result"
    }
   ],
   "execution_count": 60
  },
  {
   "metadata": {
    "ExecuteTime": {
     "end_time": "2024-05-26T23:43:41.051744Z",
     "start_time": "2024-05-26T23:43:41.048411Z"
    }
   },
   "cell_type": "code",
   "source": [
    "for i in (1, 10, 100, 750):\n",
    "    print(f'Count <= {i}: {(aa_cnt <= i).sum()} entries')"
   ],
   "id": "4d9ef24ba6c7e35a",
   "outputs": [
    {
     "name": "stdout",
     "output_type": "stream",
     "text": [
      "Count <= 1: 7 entries\n",
      "Count <= 10: 35 entries\n",
      "Count <= 100: 153 entries\n",
      "Count <= 750: 174 entries\n"
     ]
    }
   ],
   "execution_count": 72
  },
  {
   "metadata": {
    "ExecuteTime": {
     "end_time": "2024-05-26T23:45:45.643552Z",
     "start_time": "2024-05-26T23:45:45.626485Z"
    }
   },
   "cell_type": "code",
   "source": [
    "def report_constant_columns(df):\n",
    "    for col in df.columns:\n",
    "        if df[col].nunique() == 1:\n",
    "            print(col)\n",
    "\n",
    "\n",
    "report_constant_columns(df)            "
   ],
   "id": "b4de0131b8443c6c",
   "outputs": [
    {
     "name": "stdout",
     "output_type": "stream",
     "text": [
      "biotype\n"
     ]
    }
   ],
   "execution_count": 74
  },
  {
   "metadata": {
    "ExecuteTime": {
     "end_time": "2024-05-26T23:48:03.934582Z",
     "start_time": "2024-05-26T23:48:03.927581Z"
    }
   },
   "cell_type": "code",
   "source": "df['canonical'].value_counts(dropna=False)",
   "id": "b95d2c9b1efd53",
   "outputs": [
    {
     "data": {
      "text/plain": [
       "canonical\n",
       "True     4903\n",
       "False    4155\n",
       "Name: count, dtype: int64"
      ]
     },
     "execution_count": 79,
     "metadata": {},
     "output_type": "execute_result"
    }
   ],
   "execution_count": 79
  },
  {
   "metadata": {
    "ExecuteTime": {
     "end_time": "2024-05-26T23:48:55.017220Z",
     "start_time": "2024-05-26T23:48:55.008453Z"
    }
   },
   "cell_type": "code",
   "source": "df['impact'].value_counts()",
   "id": "16126912600f57f1",
   "outputs": [
    {
     "data": {
      "text/plain": [
       "impact\n",
       "MODERATE    8139\n",
       "MODIFIER     726\n",
       "LOW          106\n",
       "HIGH          87\n",
       "Name: count, dtype: int64"
      ]
     },
     "execution_count": 80,
     "metadata": {},
     "output_type": "execute_result"
    }
   ],
   "execution_count": 80
  },
  {
   "metadata": {
    "ExecuteTime": {
     "end_time": "2024-05-27T00:06:25.210488Z",
     "start_time": "2024-05-27T00:06:25.206493Z"
    }
   },
   "cell_type": "code",
   "source": "df['consequence'].value_counts(ascending=True)",
   "id": "24677582df2c1c43",
   "outputs": [
    {
     "data": {
      "text/plain": [
       "consequence\n",
       "splice_polypyrimidine_tract_variant&intron_variant                             1\n",
       "splice_donor_region_variant&intron_variant                                     1\n",
       "splice_region_variant&intron_variant                                           2\n",
       "stop_gained&splice_region_variant                                              2\n",
       "splice_region_variant&5_prime_UTR_variant                                      3\n",
       "splice_region_variant&synonymous_variant                                       4\n",
       "splice_acceptor_variant                                                        4\n",
       "splice_polypyrimidine_tract_variant&splice_region_variant&intron_variant       6\n",
       "splice_donor_variant                                                           7\n",
       "stop_gained                                                                    7\n",
       "3_prime_UTR_variant                                                           26\n",
       "5_prime_UTR_variant                                                           53\n",
       "start_lost                                                                    67\n",
       "synonymous_variant                                                            89\n",
       "upstream_gene_variant                                                        145\n",
       "downstream_gene_variant                                                      243\n",
       "intron_variant                                                               259\n",
       "missense_variant&splice_region_variant                                       316\n",
       "missense_variant                                                            7823\n",
       "Name: count, dtype: int64"
      ]
     },
     "execution_count": 85,
     "metadata": {},
     "output_type": "execute_result"
    }
   ],
   "execution_count": 85
  },
  {
   "metadata": {
    "ExecuteTime": {
     "end_time": "2024-05-27T00:18:34.152602Z",
     "start_time": "2024-05-27T00:18:31.977855Z"
    }
   },
   "cell_type": "code",
   "source": [
    "import pandas as pd\n",
    "from sklearn.preprocessing import MultiLabelBinarizer\n",
    "\n",
    "# Example DataFrame\n",
    "data = {\n",
    "    'col': [['a', 'b'], ['b', 'c'], ['a'], ['c'], ['a', 'c'], ['b']]\n",
    "}\n",
    "df = pd.DataFrame(data)\n",
    "\n",
    "# Initialize MultiLabelBinarizer\n",
    "mlb = MultiLabelBinarizer()\n",
    "\n",
    "# Fit and transform the 'col' column\n",
    "binary_matrix = mlb.fit_transform(df['col'])\n",
    "\n",
    "# Create a DataFrame from the binary matrix\n",
    "binary_df = pd.DataFrame(binary_matrix, columns=mlb.classes_)\n",
    "\n",
    "# Concatenate the new binary DataFrame with the original DataFrame\n",
    "df = pd.concat([df, binary_df], axis=1)\n",
    "\n",
    "# Drop the original 'col' column\n",
    "df = df.drop(columns=['col'])\n",
    "\n",
    "print(df)\n"
   ],
   "id": "86780095c1abb0dd",
   "outputs": [
    {
     "name": "stdout",
     "output_type": "stream",
     "text": [
      "   a  b  c\n",
      "0  1  1  0\n",
      "1  0  1  1\n",
      "2  1  0  0\n",
      "3  0  0  1\n",
      "4  1  0  1\n",
      "5  0  1  0\n"
     ]
    }
   ],
   "execution_count": 86
  },
  {
   "metadata": {},
   "cell_type": "code",
   "outputs": [
    {
     "data": {
      "text/plain": [
       "                                                                              17\n",
       "variant_id                                                      chr1_1273745_C_T\n",
       "label                                                                         LB\n",
       "Allele                                                                         T\n",
       "Consequence                                                  5_prime_UTR_variant\n",
       "IMPACT                                                                  MODIFIER\n",
       "SYMBOL                                                                    UBE2J2\n",
       "Gene                                                             ENSG00000160087\n",
       "Feature_type                                                          Transcript\n",
       "Feature                                                       ENST00000349431.11\n",
       "BIOTYPE                                                           protein_coding\n",
       "EXON                                                                         1/7\n",
       "INTRON                                                                       NaN\n",
       "HGVSc                                                                        NaN\n",
       "HGVSp                                                                        NaN\n",
       "cDNA_position                                                              110.0\n",
       "CDS_position                                                                 NaN\n",
       "Protein_position                                                             NaN\n",
       "Amino_acids                                                                  NaN\n",
       "Codons                                                                       NaN\n",
       "Existing_variation                                                           NaN\n",
       "REF_ALLELE                                                                     C\n",
       "UPLOADED_ALLELE                                                              C/T\n",
       "DISTANCE                                                                     NaN\n",
       "STRAND                                                                      -1.0\n",
       "FLAGS                                                                        NaN\n",
       "SYMBOL_SOURCE                                                               HGNC\n",
       "HGNC_ID                                                               HGNC:19268\n",
       "CANONICAL                                                                    YES\n",
       "MANE_SELECT                                                          NM_058167.3\n",
       "MANE_PLUS_CLINICAL                                                           NaN\n",
       "TSL                                                                          1.0\n",
       "APPRIS                                                                        P1\n",
       "MOTIF_NAME                                                                   NaN\n",
       "MOTIF_POS                                                                    NaN\n",
       "HIGH_INF_POS                                                                 NaN\n",
       "MOTIF_SCORE_CHANGE                                                           NaN\n",
       "TRANSCRIPTION_FACTORS                                                        NaN\n",
       "5UTR_annotation                                                              NaN\n",
       "5UTR_consequence                                                             NaN\n",
       "Existing_InFrame_oORFs                                                       0.0\n",
       "Existing_OutOfFrame_oORFs                                                    0.0\n",
       "Existing_uORFs                                                               0.0\n",
       "GO                             GO:0000151:ubiquitin_ligase_complex&GO:0000166...\n",
       "SpliceAI_pred_DP_AG                                                          NaN\n",
       "SpliceAI_pred_DP_AL                                                          NaN\n",
       "SpliceAI_pred_DP_DG                                                          NaN\n",
       "SpliceAI_pred_DP_DL                                                          NaN\n",
       "SpliceAI_pred_DS_AG                                                          NaN\n",
       "SpliceAI_pred_DS_AL                                                          NaN\n",
       "SpliceAI_pred_DS_DG                                                          NaN\n",
       "SpliceAI_pred_DS_DL                                                          NaN\n",
       "SpliceAI_pred_SYMBOL                                                         NaN\n",
       "PHENOTYPES                                                                   NaN\n",
       "REVEL_score                                                                  NaN\n",
       "gnomAD_genomes_POPMAX_AC                                                     NaN\n",
       "gnomAD_genomes_POPMAX_AF                                                     NaN\n",
       "gnomAD_genomes_POPMAX_AN                                                     NaN\n",
       "gnomAD_genomes_POPMAX_nhomalt                                                NaN\n",
       "NMD                                                                          NaN"
      ],
      "text/html": [
       "<div>\n",
       "<style scoped>\n",
       "    .dataframe tbody tr th:only-of-type {\n",
       "        vertical-align: middle;\n",
       "    }\n",
       "\n",
       "    .dataframe tbody tr th {\n",
       "        vertical-align: top;\n",
       "    }\n",
       "\n",
       "    .dataframe thead th {\n",
       "        text-align: right;\n",
       "    }\n",
       "</style>\n",
       "<table border=\"1\" class=\"dataframe\">\n",
       "  <thead>\n",
       "    <tr style=\"text-align: right;\">\n",
       "      <th></th>\n",
       "      <th>17</th>\n",
       "    </tr>\n",
       "  </thead>\n",
       "  <tbody>\n",
       "    <tr>\n",
       "      <th>variant_id</th>\n",
       "      <td>chr1_1273745_C_T</td>\n",
       "    </tr>\n",
       "    <tr>\n",
       "      <th>label</th>\n",
       "      <td>LB</td>\n",
       "    </tr>\n",
       "    <tr>\n",
       "      <th>Allele</th>\n",
       "      <td>T</td>\n",
       "    </tr>\n",
       "    <tr>\n",
       "      <th>Consequence</th>\n",
       "      <td>5_prime_UTR_variant</td>\n",
       "    </tr>\n",
       "    <tr>\n",
       "      <th>IMPACT</th>\n",
       "      <td>MODIFIER</td>\n",
       "    </tr>\n",
       "    <tr>\n",
       "      <th>SYMBOL</th>\n",
       "      <td>UBE2J2</td>\n",
       "    </tr>\n",
       "    <tr>\n",
       "      <th>Gene</th>\n",
       "      <td>ENSG00000160087</td>\n",
       "    </tr>\n",
       "    <tr>\n",
       "      <th>Feature_type</th>\n",
       "      <td>Transcript</td>\n",
       "    </tr>\n",
       "    <tr>\n",
       "      <th>Feature</th>\n",
       "      <td>ENST00000349431.11</td>\n",
       "    </tr>\n",
       "    <tr>\n",
       "      <th>BIOTYPE</th>\n",
       "      <td>protein_coding</td>\n",
       "    </tr>\n",
       "    <tr>\n",
       "      <th>EXON</th>\n",
       "      <td>1/7</td>\n",
       "    </tr>\n",
       "    <tr>\n",
       "      <th>INTRON</th>\n",
       "      <td>NaN</td>\n",
       "    </tr>\n",
       "    <tr>\n",
       "      <th>HGVSc</th>\n",
       "      <td>NaN</td>\n",
       "    </tr>\n",
       "    <tr>\n",
       "      <th>HGVSp</th>\n",
       "      <td>NaN</td>\n",
       "    </tr>\n",
       "    <tr>\n",
       "      <th>cDNA_position</th>\n",
       "      <td>110.0</td>\n",
       "    </tr>\n",
       "    <tr>\n",
       "      <th>CDS_position</th>\n",
       "      <td>NaN</td>\n",
       "    </tr>\n",
       "    <tr>\n",
       "      <th>Protein_position</th>\n",
       "      <td>NaN</td>\n",
       "    </tr>\n",
       "    <tr>\n",
       "      <th>Amino_acids</th>\n",
       "      <td>NaN</td>\n",
       "    </tr>\n",
       "    <tr>\n",
       "      <th>Codons</th>\n",
       "      <td>NaN</td>\n",
       "    </tr>\n",
       "    <tr>\n",
       "      <th>Existing_variation</th>\n",
       "      <td>NaN</td>\n",
       "    </tr>\n",
       "    <tr>\n",
       "      <th>REF_ALLELE</th>\n",
       "      <td>C</td>\n",
       "    </tr>\n",
       "    <tr>\n",
       "      <th>UPLOADED_ALLELE</th>\n",
       "      <td>C/T</td>\n",
       "    </tr>\n",
       "    <tr>\n",
       "      <th>DISTANCE</th>\n",
       "      <td>NaN</td>\n",
       "    </tr>\n",
       "    <tr>\n",
       "      <th>STRAND</th>\n",
       "      <td>-1.0</td>\n",
       "    </tr>\n",
       "    <tr>\n",
       "      <th>FLAGS</th>\n",
       "      <td>NaN</td>\n",
       "    </tr>\n",
       "    <tr>\n",
       "      <th>SYMBOL_SOURCE</th>\n",
       "      <td>HGNC</td>\n",
       "    </tr>\n",
       "    <tr>\n",
       "      <th>HGNC_ID</th>\n",
       "      <td>HGNC:19268</td>\n",
       "    </tr>\n",
       "    <tr>\n",
       "      <th>CANONICAL</th>\n",
       "      <td>YES</td>\n",
       "    </tr>\n",
       "    <tr>\n",
       "      <th>MANE_SELECT</th>\n",
       "      <td>NM_058167.3</td>\n",
       "    </tr>\n",
       "    <tr>\n",
       "      <th>MANE_PLUS_CLINICAL</th>\n",
       "      <td>NaN</td>\n",
       "    </tr>\n",
       "    <tr>\n",
       "      <th>TSL</th>\n",
       "      <td>1.0</td>\n",
       "    </tr>\n",
       "    <tr>\n",
       "      <th>APPRIS</th>\n",
       "      <td>P1</td>\n",
       "    </tr>\n",
       "    <tr>\n",
       "      <th>MOTIF_NAME</th>\n",
       "      <td>NaN</td>\n",
       "    </tr>\n",
       "    <tr>\n",
       "      <th>MOTIF_POS</th>\n",
       "      <td>NaN</td>\n",
       "    </tr>\n",
       "    <tr>\n",
       "      <th>HIGH_INF_POS</th>\n",
       "      <td>NaN</td>\n",
       "    </tr>\n",
       "    <tr>\n",
       "      <th>MOTIF_SCORE_CHANGE</th>\n",
       "      <td>NaN</td>\n",
       "    </tr>\n",
       "    <tr>\n",
       "      <th>TRANSCRIPTION_FACTORS</th>\n",
       "      <td>NaN</td>\n",
       "    </tr>\n",
       "    <tr>\n",
       "      <th>5UTR_annotation</th>\n",
       "      <td>NaN</td>\n",
       "    </tr>\n",
       "    <tr>\n",
       "      <th>5UTR_consequence</th>\n",
       "      <td>NaN</td>\n",
       "    </tr>\n",
       "    <tr>\n",
       "      <th>Existing_InFrame_oORFs</th>\n",
       "      <td>0.0</td>\n",
       "    </tr>\n",
       "    <tr>\n",
       "      <th>Existing_OutOfFrame_oORFs</th>\n",
       "      <td>0.0</td>\n",
       "    </tr>\n",
       "    <tr>\n",
       "      <th>Existing_uORFs</th>\n",
       "      <td>0.0</td>\n",
       "    </tr>\n",
       "    <tr>\n",
       "      <th>GO</th>\n",
       "      <td>GO:0000151:ubiquitin_ligase_complex&amp;GO:0000166...</td>\n",
       "    </tr>\n",
       "    <tr>\n",
       "      <th>SpliceAI_pred_DP_AG</th>\n",
       "      <td>NaN</td>\n",
       "    </tr>\n",
       "    <tr>\n",
       "      <th>SpliceAI_pred_DP_AL</th>\n",
       "      <td>NaN</td>\n",
       "    </tr>\n",
       "    <tr>\n",
       "      <th>SpliceAI_pred_DP_DG</th>\n",
       "      <td>NaN</td>\n",
       "    </tr>\n",
       "    <tr>\n",
       "      <th>SpliceAI_pred_DP_DL</th>\n",
       "      <td>NaN</td>\n",
       "    </tr>\n",
       "    <tr>\n",
       "      <th>SpliceAI_pred_DS_AG</th>\n",
       "      <td>NaN</td>\n",
       "    </tr>\n",
       "    <tr>\n",
       "      <th>SpliceAI_pred_DS_AL</th>\n",
       "      <td>NaN</td>\n",
       "    </tr>\n",
       "    <tr>\n",
       "      <th>SpliceAI_pred_DS_DG</th>\n",
       "      <td>NaN</td>\n",
       "    </tr>\n",
       "    <tr>\n",
       "      <th>SpliceAI_pred_DS_DL</th>\n",
       "      <td>NaN</td>\n",
       "    </tr>\n",
       "    <tr>\n",
       "      <th>SpliceAI_pred_SYMBOL</th>\n",
       "      <td>NaN</td>\n",
       "    </tr>\n",
       "    <tr>\n",
       "      <th>PHENOTYPES</th>\n",
       "      <td>NaN</td>\n",
       "    </tr>\n",
       "    <tr>\n",
       "      <th>REVEL_score</th>\n",
       "      <td>NaN</td>\n",
       "    </tr>\n",
       "    <tr>\n",
       "      <th>gnomAD_genomes_POPMAX_AC</th>\n",
       "      <td>NaN</td>\n",
       "    </tr>\n",
       "    <tr>\n",
       "      <th>gnomAD_genomes_POPMAX_AF</th>\n",
       "      <td>NaN</td>\n",
       "    </tr>\n",
       "    <tr>\n",
       "      <th>gnomAD_genomes_POPMAX_AN</th>\n",
       "      <td>NaN</td>\n",
       "    </tr>\n",
       "    <tr>\n",
       "      <th>gnomAD_genomes_POPMAX_nhomalt</th>\n",
       "      <td>NaN</td>\n",
       "    </tr>\n",
       "    <tr>\n",
       "      <th>NMD</th>\n",
       "      <td>NaN</td>\n",
       "    </tr>\n",
       "  </tbody>\n",
       "</table>\n",
       "</div>"
      ]
     },
     "execution_count": 19,
     "metadata": {},
     "output_type": "execute_result"
    }
   ],
   "execution_count": 19,
   "source": [
    "df[~df['Consequence'].isin(\n",
    "    ['intron_variant', 'upstream_gene_variant', 'downsream_gene_variant', 'regulatory_region_variant']\n",
    ")].head(1).T"
   ],
   "id": "c70245d3ec7ab48d"
  },
  {
   "metadata": {},
   "cell_type": "code",
   "outputs": [],
   "execution_count": null,
   "source": "",
   "id": "ccee8c38174cebf5"
  }
 ],
 "metadata": {
  "kernelspec": {
   "display_name": "Python 3",
   "language": "python",
   "name": "python3"
  },
  "language_info": {
   "codemirror_mode": {
    "name": "ipython",
    "version": 2
   },
   "file_extension": ".py",
   "mimetype": "text/x-python",
   "name": "python",
   "nbconvert_exporter": "python",
   "pygments_lexer": "ipython2",
   "version": "2.7.6"
  }
 },
 "nbformat": 4,
 "nbformat_minor": 5
}
